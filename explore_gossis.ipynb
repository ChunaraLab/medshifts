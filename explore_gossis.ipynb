{
 "cells": [
  {
   "cell_type": "code",
   "execution_count": 43,
   "metadata": {},
   "outputs": [],
   "source": [
    "import pandas as pd\n",
    "import numpy as np"
   ]
  },
  {
   "cell_type": "code",
   "execution_count": 44,
   "metadata": {},
   "outputs": [],
   "source": [
    "external_dataset_path = './datasets/'\n",
    "data_filename = 'training_v2_top15hosp_gossis.csv'\n",
    "index_col = None\n",
    "hospitalid_var = 'hospital_id'\n",
    "var_other = ['hospital_id', 'hospital_death', 'encounter_id', 'patient_id']"
   ]
  },
  {
   "cell_type": "code",
   "execution_count": 45,
   "metadata": {},
   "outputs": [],
   "source": [
    "df_eicu = pd.read_csv(external_dataset_path + data_filename, sep=',', index_col=index_col)"
   ]
  },
  {
   "cell_type": "code",
   "execution_count": 36,
   "metadata": {},
   "outputs": [],
   "source": [
    "FeatureGroups_gossis = {\n",
    "    'outcome': 'hospital_death',\n",
    "    'demographic': ['age', 'bmi', 'elective_surgery', 'ethnicity', 'gender',\n",
    "                    'height', 'pre_icu_los_days', 'readmission_status', 'weight'],\n",
    "    'APACHE_covariate': ['albumin_apache', 'apache_2_diagnosis', 'apache_3j_diagnosis', 'apache_post_operative',\n",
    "                        'arf_apache', 'bilirubin_apache', 'bun_apache', 'creatinine_apache', 'fio2_apache',\n",
    "                        'gcs_eyes_apache', 'gcs_motor_apache', 'gcs_unable_apache', 'gcs_verbal_apache',\n",
    "                        'glucose_apache', 'heart_rate_apache', 'hematocrit_apache', 'intubated_apache',\n",
    "                        'map_apache', 'paco2_apache', 'paco2_for_ph_apache', 'pao2_apache', 'ph_apache', 'resprate_apache', 'sodium_apache',\n",
    "                        'temp_apache', 'urineoutput_apache', 'ventilated_apache', 'wbc_apache'],\n",
    "    'vitals': ['d1_diasbp_invasive_max', 'd1_diasbp_invasive_min', 'd1_diasbp_max', 'd1_diasbp_min',\n",
    "                'd1_diasbp_noninvasive_max', 'd1_diasbp_noninvasive_min', 'd1_heartrate_max', 'd1_heartrate_min',\n",
    "                'd1_mbp_invasive_max', 'd1_mbp_invasive_min', 'd1_mbp_max', 'd1_mbp_min', 'd1_mbp_noninvasive_max',\n",
    "                'd1_mbp_noninvasive_min', 'd1_resprate_max', 'd1_resprate_min', 'd1_spo2_max', 'd1_spo2_min',\n",
    "                'd1_sysbp_invasive_max', 'd1_sysbp_invasive_min', 'd1_sysbp_max', 'd1_sysbp_min', 'd1_sysbp_noninvasive_max',\n",
    "                'd1_sysbp_noninvasive_min', 'd1_temp_max', 'd1_temp_min', 'h1_diasbp_invasive_max',\n",
    "                'h1_diasbp_invasive_min', 'h1_diasbp_max', 'h1_diasbp_min', 'h1_diasbp_noninvasive_max',\n",
    "                'h1_diasbp_noninvasive_min', 'h1_heartrate_max', 'h1_heartrate_min', 'h1_mbp_invasive_max',\n",
    "                'h1_mbp_invasive_min', 'h1_mbp_max', 'h1_mbp_min', 'h1_mbp_noninvasive_max', 'h1_mbp_noninvasive_min',\n",
    "                'h1_resprate_max', 'h1_resprate_min', 'h1_spo2_max', 'h1_spo2_min', 'h1_sysbp_invasive_max',\n",
    "                'h1_sysbp_invasive_min', 'h1_sysbp_max', 'h1_sysbp_min', 'h1_sysbp_noninvasive_max',\n",
    "                'h1_sysbp_noninvasive_min', 'h1_temp_max', 'h1_temp_min'],\n",
    "    'labs': ['d1_albumin_max', 'd1_albumin_min', 'd1_bilirubin_max', 'd1_bilirubin_min',\n",
    "            'd1_bun_max', 'd1_bun_min', 'd1_calcium_max', 'd1_calcium_min', 'd1_creatinine_max', 'd1_creatinine_min',\n",
    "            'd1_glucose_max', 'd1_glucose_min', 'd1_hco3_max', 'd1_hco3_min',\n",
    "            'd1_hemaglobin_max', 'd1_hemaglobin_min', 'd1_hematocrit_max', 'd1_hematocrit_min',\n",
    "            'd1_inr_max', 'd1_inr_min', 'd1_lactate_max', 'd1_lactate_min', 'd1_platelets_max',\n",
    "            'd1_platelets_min', 'd1_potassium_max', 'd1_potassium_min', 'd1_sodium_max', 'd1_sodium_min',\n",
    "            'd1_wbc_max', 'd1_wbc_min', 'h1_albumin_max', 'h1_albumin_min', 'h1_bilirubin_max', 'h1_bilirubin_min',\n",
    "            'h1_bun_max', 'h1_bun_min', 'h1_calcium_max', 'h1_calcium_min', 'h1_creatinine_max', 'h1_creatinine_min',\n",
    "            'h1_glucose_max', 'h1_glucose_min', 'h1_hco3_max', 'h1_hco3_min', 'h1_hemaglobin_max', 'h1_hemaglobin_min',\n",
    "            'h1_hematocrit_max', 'h1_hematocrit_min', 'h1_inr_max', 'h1_inr_min', 'h1_lactate_max', 'h1_lactate_min',\n",
    "            'h1_platelets_max', 'h1_platelets_min', 'h1_potassium_max', 'h1_potassium_min',\n",
    "            'h1_sodium_max', 'h1_sodium_min', 'h1_wbc_max', 'h1_wbc_min'],\n",
    "    'labs_blood_gas': ['d1_arterial_pco2_max', 'd1_arterial_pco2_min', 'd1_arterial_ph_max',\n",
    "                        'd1_arterial_ph_min', 'd1_arterial_po2_max', 'd1_arterial_po2_min',\n",
    "                        'd1_pao2fio2ratio_max', 'd1_pao2fio2ratio_min', 'h1_arterial_pco2_max', 'h1_arterial_pco2_min',\n",
    "                        'h1_arterial_ph_max', 'h1_arterial_ph_min', 'h1_arterial_po2_max', 'h1_arterial_po2_min',\n",
    "                        'h1_pao2fio2ratio_max', 'h1_pao2fio2ratio_min'],\n",
    "    'APACHE_prediction': ['apache_4a_hospital_death_prob', 'apache_4a_icu_death_prob'],\n",
    "    'APACHE_comorbidity': ['aids', 'cirrhosis', 'diabetes_mellitus', 'hepatic_failure', 'immunosuppression',\n",
    "                            'leukemia', 'lymphoma', 'solid_tumor_with_metastasis'],\n",
    "    'APACHE_grouping': ['apache_3j_bodysystem', 'apache_2_bodysystem']\n",
    "}"
   ]
  },
  {
   "cell_type": "code",
   "execution_count": 37,
   "metadata": {},
   "outputs": [],
   "source": [
    "features = FeatureGroups_gossis['demographic']\n",
    "x_train = df_eicu[features].values"
   ]
  },
  {
   "cell_type": "code",
   "execution_count": 38,
   "metadata": {},
   "outputs": [
    {
     "data": {
      "text/html": [
       "<div>\n",
       "<style scoped>\n",
       "    .dataframe tbody tr th:only-of-type {\n",
       "        vertical-align: middle;\n",
       "    }\n",
       "\n",
       "    .dataframe tbody tr th {\n",
       "        vertical-align: top;\n",
       "    }\n",
       "\n",
       "    .dataframe thead th {\n",
       "        text-align: right;\n",
       "    }\n",
       "</style>\n",
       "<table border=\"1\" class=\"dataframe\">\n",
       "  <thead>\n",
       "    <tr style=\"text-align: right;\">\n",
       "      <th></th>\n",
       "      <th>age</th>\n",
       "      <th>bmi</th>\n",
       "      <th>elective_surgery</th>\n",
       "      <th>ethnicity</th>\n",
       "      <th>gender</th>\n",
       "      <th>height</th>\n",
       "      <th>pre_icu_los_days</th>\n",
       "      <th>readmission_status</th>\n",
       "      <th>weight</th>\n",
       "    </tr>\n",
       "  </thead>\n",
       "  <tbody>\n",
       "    <tr>\n",
       "      <th>0</th>\n",
       "      <td>68.0</td>\n",
       "      <td>22.730000</td>\n",
       "      <td>0</td>\n",
       "      <td>Caucasian</td>\n",
       "      <td>M</td>\n",
       "      <td>180.3</td>\n",
       "      <td>0.541667</td>\n",
       "      <td>0</td>\n",
       "      <td>73.9</td>\n",
       "    </tr>\n",
       "    <tr>\n",
       "      <th>1</th>\n",
       "      <td>25.0</td>\n",
       "      <td>31.950000</td>\n",
       "      <td>0</td>\n",
       "      <td>Caucasian</td>\n",
       "      <td>F</td>\n",
       "      <td>172.7</td>\n",
       "      <td>0.000694</td>\n",
       "      <td>0</td>\n",
       "      <td>95.3</td>\n",
       "    </tr>\n",
       "    <tr>\n",
       "      <th>2</th>\n",
       "      <td>81.0</td>\n",
       "      <td>22.640000</td>\n",
       "      <td>1</td>\n",
       "      <td>Caucasian</td>\n",
       "      <td>F</td>\n",
       "      <td>165.1</td>\n",
       "      <td>0.000694</td>\n",
       "      <td>0</td>\n",
       "      <td>61.7</td>\n",
       "    </tr>\n",
       "    <tr>\n",
       "      <th>3</th>\n",
       "      <td>45.0</td>\n",
       "      <td>NaN</td>\n",
       "      <td>0</td>\n",
       "      <td>Caucasian</td>\n",
       "      <td>M</td>\n",
       "      <td>170.2</td>\n",
       "      <td>0.009028</td>\n",
       "      <td>0</td>\n",
       "      <td>NaN</td>\n",
       "    </tr>\n",
       "    <tr>\n",
       "      <th>4</th>\n",
       "      <td>50.0</td>\n",
       "      <td>25.710000</td>\n",
       "      <td>0</td>\n",
       "      <td>NaN</td>\n",
       "      <td>M</td>\n",
       "      <td>175.3</td>\n",
       "      <td>0.060417</td>\n",
       "      <td>0</td>\n",
       "      <td>79.0</td>\n",
       "    </tr>\n",
       "    <tr>\n",
       "      <th>...</th>\n",
       "      <td>...</td>\n",
       "      <td>...</td>\n",
       "      <td>...</td>\n",
       "      <td>...</td>\n",
       "      <td>...</td>\n",
       "      <td>...</td>\n",
       "      <td>...</td>\n",
       "      <td>...</td>\n",
       "      <td>...</td>\n",
       "    </tr>\n",
       "    <tr>\n",
       "      <th>37906</th>\n",
       "      <td>56.0</td>\n",
       "      <td>29.936155</td>\n",
       "      <td>0</td>\n",
       "      <td>Caucasian</td>\n",
       "      <td>F</td>\n",
       "      <td>165.1</td>\n",
       "      <td>0.168750</td>\n",
       "      <td>0</td>\n",
       "      <td>81.6</td>\n",
       "    </tr>\n",
       "    <tr>\n",
       "      <th>37907</th>\n",
       "      <td>42.0</td>\n",
       "      <td>27.223993</td>\n",
       "      <td>0</td>\n",
       "      <td>Other/Unknown</td>\n",
       "      <td>M</td>\n",
       "      <td>180.3</td>\n",
       "      <td>0.000000</td>\n",
       "      <td>0</td>\n",
       "      <td>88.5</td>\n",
       "    </tr>\n",
       "    <tr>\n",
       "      <th>37908</th>\n",
       "      <td>55.0</td>\n",
       "      <td>44.475599</td>\n",
       "      <td>0</td>\n",
       "      <td>Caucasian</td>\n",
       "      <td>M</td>\n",
       "      <td>177.8</td>\n",
       "      <td>0.004861</td>\n",
       "      <td>0</td>\n",
       "      <td>140.6</td>\n",
       "    </tr>\n",
       "    <tr>\n",
       "      <th>37909</th>\n",
       "      <td>76.0</td>\n",
       "      <td>41.327572</td>\n",
       "      <td>0</td>\n",
       "      <td>Caucasian</td>\n",
       "      <td>M</td>\n",
       "      <td>175.3</td>\n",
       "      <td>0.091667</td>\n",
       "      <td>0</td>\n",
       "      <td>127.0</td>\n",
       "    </tr>\n",
       "    <tr>\n",
       "      <th>37910</th>\n",
       "      <td>79.0</td>\n",
       "      <td>NaN</td>\n",
       "      <td>0</td>\n",
       "      <td>Caucasian</td>\n",
       "      <td>M</td>\n",
       "      <td>NaN</td>\n",
       "      <td>0.002083</td>\n",
       "      <td>0</td>\n",
       "      <td>108.0</td>\n",
       "    </tr>\n",
       "  </tbody>\n",
       "</table>\n",
       "<p>37911 rows × 9 columns</p>\n",
       "</div>"
      ],
      "text/plain": [
       "        age        bmi  elective_surgery      ethnicity gender  height  \\\n",
       "0      68.0  22.730000                 0      Caucasian      M   180.3   \n",
       "1      25.0  31.950000                 0      Caucasian      F   172.7   \n",
       "2      81.0  22.640000                 1      Caucasian      F   165.1   \n",
       "3      45.0        NaN                 0      Caucasian      M   170.2   \n",
       "4      50.0  25.710000                 0            NaN      M   175.3   \n",
       "...     ...        ...               ...            ...    ...     ...   \n",
       "37906  56.0  29.936155                 0      Caucasian      F   165.1   \n",
       "37907  42.0  27.223993                 0  Other/Unknown      M   180.3   \n",
       "37908  55.0  44.475599                 0      Caucasian      M   177.8   \n",
       "37909  76.0  41.327572                 0      Caucasian      M   175.3   \n",
       "37910  79.0        NaN                 0      Caucasian      M     NaN   \n",
       "\n",
       "       pre_icu_los_days  readmission_status  weight  \n",
       "0              0.541667                   0    73.9  \n",
       "1              0.000694                   0    95.3  \n",
       "2              0.000694                   0    61.7  \n",
       "3              0.009028                   0     NaN  \n",
       "4              0.060417                   0    79.0  \n",
       "...                 ...                 ...     ...  \n",
       "37906          0.168750                   0    81.6  \n",
       "37907          0.000000                   0    88.5  \n",
       "37908          0.004861                   0   140.6  \n",
       "37909          0.091667                   0   127.0  \n",
       "37910          0.002083                   0   108.0  \n",
       "\n",
       "[37911 rows x 9 columns]"
      ]
     },
     "execution_count": 38,
     "metadata": {},
     "output_type": "execute_result"
    }
   ],
   "source": [
    "df_eicu[features]"
   ]
  },
  {
   "cell_type": "code",
   "execution_count": 13,
   "metadata": {},
   "outputs": [
    {
     "data": {
      "text/plain": [
       "Caucasian           30934\n",
       "African American     4053\n",
       "Other/Unknown        1215\n",
       "Hispanic              781\n",
       "Native American       358\n",
       "Asian                 309\n",
       "Name: ethnicity, dtype: int64"
      ]
     },
     "execution_count": 13,
     "metadata": {},
     "output_type": "execute_result"
    }
   ],
   "source": [
    "df_eicu[features]['ethnicity'].value_counts()"
   ]
  },
  {
   "cell_type": "code",
   "execution_count": 41,
   "metadata": {},
   "outputs": [
    {
     "data": {
      "text/plain": [
       "Index(['age', 'bmi', 'elective_surgery', 'height', 'pre_icu_los_days',\n",
       "       'readmission_status', 'weight', 'ethnicity_African American',\n",
       "       'ethnicity_Asian', 'ethnicity_Caucasian', 'ethnicity_Hispanic',\n",
       "       'ethnicity_Native American', 'ethnicity_Other/Unknown', 'gender_F',\n",
       "       'gender_M'],\n",
       "      dtype='object')"
      ]
     },
     "execution_count": 41,
     "metadata": {},
     "output_type": "execute_result"
    }
   ],
   "source": [
    "pd.get_dummies(df_eicu[features], columns=['ethnicity','gender']).columns"
   ]
  },
  {
   "cell_type": "code",
   "execution_count": 42,
   "metadata": {},
   "outputs": [
    {
     "data": {
      "text/plain": [
       "{'apache_2_bodysystem',\n",
       " 'apache_3j_bodysystem',\n",
       " 'ethnicity',\n",
       " 'gender',\n",
       " 'hospital_admit_source',\n",
       " 'icu_admit_source',\n",
       " 'icu_stay_type',\n",
       " 'icu_type'}"
      ]
     },
     "execution_count": 42,
     "metadata": {},
     "output_type": "execute_result"
    }
   ],
   "source": [
    "categorical_cols = set(df_eicu.columns) - set(df_eicu._get_numeric_data().columns)\n",
    "categorical_cols"
   ]
  },
  {
   "cell_type": "code",
   "execution_count": 27,
   "metadata": {},
   "outputs": [
    {
     "name": "stdout",
     "output_type": "stream",
     "text": [
      "15 hospital_admit_source\n",
      "3 icu_stay_type\n",
      "5 icu_admit_source\n",
      "2 gender\n",
      "10 apache_2_bodysystem\n",
      "8 icu_type\n",
      "6 ethnicity\n",
      "11 apache_3j_bodysystem\n"
     ]
    }
   ],
   "source": [
    "for i in categorical_cols:\n",
    "    print(df_eicu[i].nunique(), i)"
   ]
  },
  {
   "cell_type": "code",
   "execution_count": 50,
   "metadata": {},
   "outputs": [],
   "source": [
    "df_eicu_dummy = pd.get_dummies(df_eicu, columns=['ethnicity','gender'])"
   ]
  },
  {
   "cell_type": "code",
   "execution_count": 52,
   "metadata": {},
   "outputs": [],
   "source": [
    "df_eicu_dummy.to_csv(external_dataset_path+'training_v2_top15hosp_dummy_gossis.csv', index=False)"
   ]
  },
  {
   "cell_type": "code",
   "execution_count": 58,
   "metadata": {},
   "outputs": [
    {
     "data": {
      "text/plain": [
       "118    4333\n",
       "19     3925\n",
       "188    3095\n",
       "161    2792\n",
       "70     2754\n",
       "196    2730\n",
       "176    2583\n",
       "21     2470\n",
       "194    2258\n",
       "174    2225\n",
       "100    2141\n",
       "55     1909\n",
       "185    1744\n",
       "79     1510\n",
       "18     1442\n",
       "Name: hospital_id, dtype: int64"
      ]
     },
     "execution_count": 58,
     "metadata": {},
     "output_type": "execute_result"
    }
   ],
   "source": [
    "df_eicu['hospital_id'].value_counts()"
   ]
  }
 ],
 "metadata": {
  "kernelspec": {
   "display_name": "Python 3",
   "language": "python",
   "name": "python3"
  },
  "language_info": {
   "codemirror_mode": {
    "name": "ipython",
    "version": 3
   },
   "file_extension": ".py",
   "mimetype": "text/x-python",
   "name": "python",
   "nbconvert_exporter": "python",
   "pygments_lexer": "ipython3",
   "version": "3.8.3"
  }
 },
 "nbformat": 4,
 "nbformat_minor": 4
}
